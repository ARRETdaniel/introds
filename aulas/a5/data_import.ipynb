{
  "cells": [
    {
      "cell_type": "raw",
      "metadata": {},
      "source": [
        "---\n",
        "title: \"8 Data Import\"\n",
        "subtitle: \"Introdução à ciência de dados\"\n",
        "author: \"Daniel Brito dos Santos\"\n",
        "format:\n",
        "  revealjs:\n",
        "    incremental: true\n",
        "    chalkboard: true\n",
        "---"
      ],
      "id": "5c9cb1c3"
    },
    {
      "cell_type": "markdown",
      "metadata": {},
      "source": [
        "# 8.1 Introdução"
      ],
      "id": "6bf852d8"
    },
    {
      "cell_type": "raw",
      "metadata": {},
      "source": [
        "---\n",
        "\n",
        "- Usar os dados fornecidos por pacotes de R é uma ótima forma de aprender as ferramentas da ciência de dados\n",
        "- Mas você vai querer aplicar o que aprendeu nos seus próprios dados!\n",
        "- Na aula de hoje veremos o básico da leitura de arquivos no R\n",
        "\n",
        "---"
      ],
      "id": "4f79bd54"
    },
    {
      "cell_type": "markdown",
      "metadata": {},
      "source": [
        "### Especificamente:\n",
        "\n",
        "- vamos focar em arquivos **tabulares de texto** (csv)\n",
        "- veremos dicas práticas de como lidar com **colunas**, **nomes**, **tipos** e **dados faltantes**. \n",
        "- depois veremos como ler dados de **arquivos múltiplos** e **salvar** arquivos\n",
        "- finalmente veremos como **criar datasets** manualmente\n",
        "\n",
        "## 8.1.1 Prerequisitos \n",
        "\n",
        "- Vamos utilizar o pacote **readr** que é parte do tidyverse \n",
        "\n",
        ". . . \n",
        "\n",
        "```r\n",
        "library(tidyverse)\n",
        "```\n",
        "\n",
        "\n",
        "# 8.2 Lendo dados de um arquivo \n",
        "\n",
        "## CSV\n",
        "\n",
        "- formato mais famoso de dados retangulares\n",
        "- primeira linha normalmente é **header**\n",
        "  - nomeia as colunas\n",
        "- linhas seguintes apresenta os dados\n",
        "\n",
        "## arquivo csv e a tabela que ele representa\n",
        "\n",
        ". . .\n",
        "\n",
        "```r\n",
        "#> Student ID,Full Name,favourite.food,mealPlan,AGE\n",
        "#> 1,Sunil Huffmann,Strawberry yoghurt,Lunch only,4\n",
        "#> 2,Barclay Lynn,French fries,Lunch only,5\n",
        "#> 3,Jayendra Lyne,N/A,Breakfast and lunch,7\n",
        "#> 4,Leon Rossini,Anchovies,Lunch only,\n",
        "#> 5,Chidiegwu Dunkel,Pizza,Breakfast and lunch,five\n",
        "#> 6,Güvenç Attila,Ice cream,Lunch only,6\n",
        "```\n",
        "\n",
        ". . .\n",
        "\n",
        "\n",
        "```{md}\n",
        "|Student ID|Full Name|favourite.food|mealPlan|AGE|\n",
        "|          |         |              |        |   |\n",
        "|1|Sunil Huffmann|Strawberry yoghurt|Lunch only|4|\n",
        "|2|Barclay Lynn|French fries|Lunch only|5|\n",
        "|3|Jayendra Lyne|N/A|Breakfast and lunch|7|\n",
        "|4|Leon Rossini|Anchovies|Lunch only||\n",
        "|5|Chidiegwu Dunkel|Pizza|Breakfast and lunch|five|\n",
        "|6|Güvenç Attila|Ice cream|Lunch only|6|\n",
        "```\n",
        "\n",
        "\n",
        "| Default | Left | Right | Center |\n",
        "|---------|:-----|------:|:------:|\n",
        "| 12      | 12   |    12 |   12   |\n",
        "| 123     | 123  |   123 |  123   |\n",
        "| 1       | 1    |     1 |   1    |\n",
        "\n",
        ": Demonstration of pipe table syntax"
      ],
      "id": "81a0f697"
    }
  ],
  "metadata": {
    "kernelspec": {
      "name": "python3",
      "language": "python",
      "display_name": "Python 3 (ipykernel)"
    }
  },
  "nbformat": 4,
  "nbformat_minor": 5
}